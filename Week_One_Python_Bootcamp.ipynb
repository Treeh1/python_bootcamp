{
  "nbformat": 4,
  "nbformat_minor": 0,
  "metadata": {
    "colab": {
      "name": "Week One Python Bootcamp.ipynb",
      "provenance": [],
      "collapsed_sections": [],
      "authorship_tag": "ABX9TyMdd39j+bufkcgKym5Tud1D",
      "include_colab_link": true
    },
    "kernelspec": {
      "name": "python3",
      "display_name": "Python 3"
    }
  },
  "cells": [
    {
      "cell_type": "markdown",
      "metadata": {
        "id": "view-in-github",
        "colab_type": "text"
      },
      "source": [
        "<a href=\"https://colab.research.google.com/github/Treeh1/python_bootcamp/blob/main/Week_One_Python_Bootcamp.ipynb\" target=\"_parent\"><img src=\"https://colab.research.google.com/assets/colab-badge.svg\" alt=\"Open In Colab\"/></a>"
      ]
    },
    {
      "cell_type": "code",
      "metadata": {
        "colab": {
          "base_uri": "https://localhost:8080/"
        },
        "id": "6PfMEg09-ZVI",
        "outputId": "ddf9977a-a0cd-45de-c780-a9b1a7ab32f1"
      },
      "source": [
        "import requests\n",
        "response = requests.get('https://www.google.com')\n",
        "\n",
        "print(response)"
      ],
      "execution_count": null,
      "outputs": [
        {
          "output_type": "stream",
          "text": [
            "<Response [200]>\n"
          ],
          "name": "stdout"
        }
      ]
    },
    {
      "cell_type": "code",
      "metadata": {
        "id": "zA96Xz1HafsP"
      },
      "source": [
        "data = ['a', 'b', 'c', 'd', 'e']\r\n",
        "\r\n",
        "i=0\r\n",
        "\r\n",
        "while i < len(data):\r\n",
        "  print(data[i], end=\" \")\r\n",
        "  i += 1\r\n",
        "\r\n",
        "  while True:\r\n",
        "  \r\n",
        "   x = input()\r\n",
        "    if x == \"stop\":\r\n",
        "      break\r\n",
        "    elif   x == \"special\":\r\n",
        "      continue\r\n",
        "      print(\"printing data...\")"
      ],
      "execution_count": null,
      "outputs": []
    },
    {
      "cell_type": "code",
      "metadata": {
        "id": "TqAvfTQ7mXLA"
      },
      "source": [
        " from random  import randint\r\n",
        "\r\n",
        "randomRange = guess\r\n",
        "low = 0\r\n",
        "high = 100\r\n",
        "correct = randint(low, high)\r\n",
        "print (correct)\r\n",
        "print(f'guess a number between {low} and {high}!')\r\n",
        "while True:\r\n",
        "  guess = int(input())\r\n",
        "  \r\n",
        "  if guess < correct:\r\n",
        "    print('guess higher!')\r\n",
        "  elif guess > correct:\r\n",
        "    print ('guess lower')\r\n",
        "  else: \r\n",
        "    print ('correct guess!')\r\n",
        "    break\r\n",
        "\r\n"
      ],
      "execution_count": null,
      "outputs": []
    },
    {
      "cell_type": "markdown",
      "metadata": {
        "id": "h_s0qvuBH_Hv"
      },
      "source": [
        "###Requsting data from an API -- 1.3   \r\n"
      ]
    },
    {
      "cell_type": "code",
      "metadata": {
        "id": "wXf9VASYovj_",
        "colab": {
          "base_uri": "https://localhost:8080/"
        },
        "outputId": "8d16883d-cd85-4479-d7fc-63a4fd128225"
      },
      "source": [
        "import requests\r\n",
        "\r\n",
        "response = requests.get('https://uselessfacts.jsph.pl/random.json?language=en')\r\n",
        "\r\n",
        "print(response.text)"
      ],
      "execution_count": null,
      "outputs": [
        {
          "output_type": "stream",
          "text": [
            "{\"id\":\"f6e2194d-e184-43b1-b8d5-70538c3bf70c\",\"text\":\"The name Jeep came from the abbreviation used in the army. G.P. for `General Purpose` vehicle.\",\"source\":\"djtech.net\",\"source_url\":\"http:\\/\\/www.djtech.net\\/humor\\/useless_facts.htm\",\"language\":\"en\",\"permalink\":\"https:\\/\\/uselessfacts.jsph.pl\\/f6e2194d-e184-43b1-b8d5-70538c3bf70c\"}\n"
          ],
          "name": "stdout"
        }
      ]
    },
    {
      "cell_type": "code",
      "metadata": {
        "colab": {
          "base_uri": "https://localhost:8080/"
        },
        "id": "Jq6S2lnVKx_r",
        "outputId": "8eda1f1e-9e28-457d-c4f6-e1f75eeb4418"
      },
      "source": [
        "    query_parameters={\r\n",
        "        'language':'en'\r\n",
        "    }\r\n",
        "    response = requests.get('https://uselessfacts.jsph.pl/random.json', params=query_parameters)\r\n",
        "    print(response.json().get('text'))"
      ],
      "execution_count": null,
      "outputs": [
        {
          "output_type": "stream",
          "text": [
            "The common idea that only 10% of the brain is used it not true as it is impossible to determine the actual percentage because of the complexity of the brain.\n"
          ],
          "name": "stdout"
        }
      ]
    },
    {
      "cell_type": "markdown",
      "metadata": {
        "id": "eH4qHGQjRObL"
      },
      "source": [
        "## Built in **data** structures -- 1.4   \r\n",
        "\r\n"
      ]
    },
    {
      "cell_type": "code",
      "metadata": {
        "colab": {
          "base_uri": "https://localhost:8080/"
        },
        "id": "3QUiv2SKQuom",
        "outputId": "ece2c511-731c-4d8f-debd-e30b41f2ab84"
      },
      "source": [
        " data = ['Caleb', 'Me']\r\n",
        " print(data[1])\r\n",
        " data.append(\"Jimmy\")\r\n",
        " data.append([\"Hello!\"])\r\n",
        " data.append(5)\r\n",
        " \r\n",
        " print(data)"
      ],
      "execution_count": null,
      "outputs": [
        {
          "output_type": "stream",
          "text": [
            "Me\n",
            "['Caleb', 'Me', 'Jimmy', ['Hello!'], 5]\n"
          ],
          "name": "stdout"
        }
      ]
    },
    {
      "cell_type": "markdown",
      "metadata": {
        "id": "HoRmKCVThGMF"
      },
      "source": [
        "##**List** Slicing\r\n",
        "1st number - starting position (inclusive)   \r\n",
        "2nd number = stopping posittion (exclusive)   \r\n",
        "3rd number = step   "
      ]
    },
    {
      "cell_type": "code",
      "metadata": {
        "colab": {
          "base_uri": "https://localhost:8080/"
        },
        "id": "Ajx-D-buRs4Q",
        "outputId": "410966ca-d659-4553-99be-aa781804ec70"
      },
      "source": [
        "data = ['Caleb', \"Jimmy\", \"Sam\", \"Monica\", \"caleb\"]\r\n",
        "\r\n",
        "print(data)\r\n",
        "data[1:4:2]"
      ],
      "execution_count": null,
      "outputs": [
        {
          "output_type": "stream",
          "text": [
            "['Caleb', 'Jimmy', 'Sam', 'Monica', 'caleb']\n"
          ],
          "name": "stdout"
        },
        {
          "output_type": "execute_result",
          "data": {
            "text/plain": [
              "['Jimmy', 'Monica']"
            ]
          },
          "metadata": {
            "tags": []
          },
          "execution_count": 41
        }
      ]
    },
    {
      "cell_type": "markdown",
      "metadata": {
        "id": "xLemCq4Pig6o"
      },
      "source": [
        "#Dictionaries & Sets"
      ]
    },
    {
      "cell_type": "code",
      "metadata": {
        "colab": {
          "base_uri": "https://localhost:8080/"
        },
        "id": "01DV2T-5idW-",
        "outputId": "e8ed14f3-b12e-46e8-b600-08f50a01b857"
      },
      "source": [
        "data = {'Caleb', 'Jimmy', 'Samatha', 'Monica', 'Caleb'}\r\n",
        "\r\n",
        "data_dictionary = {\r\n",
        "    'Caleb':5,\r\n",
        "    'Jimmy': 10,\r\n",
        "    'Sam': 12,\r\n",
        "    'Monica':20,\r\n",
        "    'Caleb':4,\r\n",
        "}\r\n",
        "\r\n",
        "print(data)\r\n",
        "print(data_dictionary)\r\n",
        "print(data_dictionary.get('Caleb'))\r\n",
        "\r\n",
        "#Data ={}\r\n",
        "#Is it a random order in what dictionaries print out compared to the dictionary order? "
      ],
      "execution_count": null,
      "outputs": [
        {
          "output_type": "stream",
          "text": [
            "{'Samatha', 'Caleb', 'Jimmy', 'Monica'}\n",
            "{'Caleb': 4, 'Jimmy': 10, 'Sam': 12, 'Monica': 20}\n",
            "4\n"
          ],
          "name": "stdout"
        }
      ]
    },
    {
      "cell_type": "markdown",
      "metadata": {
        "id": "oi-56FQtoBuX"
      },
      "source": [
        "#Control Flow - Loops & Conditionals 1.5  \r\n",
        "  **For Loops**   \r\n",
        "(Note) Things that can be iterated through:   \r\n",
        "set, range - class, list, __inter__()\r\n"
      ]
    },
    {
      "cell_type": "code",
      "metadata": {
        "colab": {
          "base_uri": "https://localhost:8080/"
        },
        "id": "ssG-M-ltoASe",
        "outputId": "2e024e6f-3556-4d80-ed73-53baeeca7169"
      },
      "source": [
        "data = ['a', 'b', 'c', 'd', 'e']\r\n",
        "for i in range(len(data)):\r\n",
        " print(data[i], end='')\r\n",
        "\r\n",
        "print('')\r\n",
        "for letter in (data):\r\n",
        "  print(letter, end=\" \")\r\n",
        "\r\n",
        "print(' ')\r\n",
        "for i, letter in enumerate(data):\r\n",
        "  print(i, letter, end=\" \")\r\n",
        "\r\n",
        "print('')\r\n",
        "for letter in enumerate(data):\r\n",
        "  print(letter)"
      ],
      "execution_count": 25,
      "outputs": [
        {
          "output_type": "stream",
          "text": [
            "abcde\n",
            "a b c d e  \n",
            "0 a 1 b 2 c 3 d 4 e \n",
            "(0, 'a')\n",
            "(1, 'b')\n",
            "(2, 'c')\n",
            "(3, 'd')\n",
            "(4, 'e')\n"
          ],
          "name": "stdout"
        }
      ]
    },
    {
      "cell_type": "markdown",
      "metadata": {
        "id": "pbSu4KRutgNP"
      },
      "source": [
        "### **...While Loops**"
      ]
    },
    {
      "cell_type": "code",
      "metadata": {
        "colab": {
          "base_uri": "https://localhost:8080/"
        },
        "id": "5zocKD9JlhbY",
        "outputId": "78336d1d-c5c3-4ca6-a491-a47900d3be10"
      },
      "source": [
        "data = ['a', 'b', 'c', 'd', 'e']\r\n",
        "\r\n",
        "i=0\r\n",
        "\r\n",
        "while i<len(data):\r\n",
        "  print(data[i], end=' ')\r\n",
        "  i+=1\r\n",
        "print('j')\r\n",
        "while True:\r\n",
        "  x = input()\r\n",
        "  if x == \"stop\":\r\n",
        "    break\r\n",
        "  elif x == \"special\":\r\n",
        "    continue\r\n",
        "  else : #this else is actually not needed in this scenario \r\n",
        "    print ('neither stop or special was typed in')\r\n",
        "    print('logging data...')"
      ],
      "execution_count": 33,
      "outputs": [
        {
          "output_type": "stream",
          "text": [
            "a b c d e j\n",
            "ho\n",
            "neither stop or special was typed in\n",
            "logging data...\n",
            "stop\n"
          ],
          "name": "stdout"
        }
      ]
    },
    {
      "cell_type": "markdown",
      "metadata": {
        "id": "WTrkeCaBx_8b"
      },
      "source": [
        "###...Iterate through a dictionary"
      ]
    },
    {
      "cell_type": "code",
      "metadata": {
        "colab": {
          "base_uri": "https://localhost:8080/"
        },
        "id": "pZVuRjsjucxu",
        "outputId": "13c329aa-cc7e-4bda-b54b-69fdf3520e9b"
      },
      "source": [
        "data_dictionary = {\r\n",
        "    'Caleb':5,\r\n",
        "    'Jimmy': 10,\r\n",
        "    'Sam': 12,\r\n",
        "    'Monica':20,\r\n",
        "    'Caleb':4,\r\n",
        "}\r\n",
        "\r\n",
        "for key, value in data_dictionary.items():\r\n",
        "  if key == 'Sam':\r\n",
        "    print(\"Sam is here! Yea!\")\r\n",
        "    continue\r\n",
        "  print(key, value)"
      ],
      "execution_count": 48,
      "outputs": [
        {
          "output_type": "stream",
          "text": [
            "Caleb 4\n",
            "Jimmy 10\n",
            "Sam is here! Yea!\n",
            "Monica 20\n"
          ],
          "name": "stdout"
        }
      ]
    },
    {
      "cell_type": "markdown",
      "metadata": {
        "id": "t54RafqgzEaJ"
      },
      "source": [
        "###Custom Functions -- 1.6   \r\n",
        "**Guessing Game**   \r\n",
        "generate a random number   \r\n",
        "\r\n",
        "\r\n",
        "\r\n",
        "\r\n"
      ]
    },
    {
      "cell_type": "code",
      "metadata": {
        "colab": {
          "base_uri": "https://localhost:8080/"
        },
        "id": "30_NHebczDep",
        "outputId": "1fa947d9-c9f1-4b23-c2e9-59d211727fc0"
      },
      "source": [
        "#import random\r\n",
        "#print(random.randint(0, 10)) (Eliminate using random. each time)\r\n",
        "'''from random import randint\r\n",
        "correct = (randint(0, 10))\r\n",
        "print(correct)\r\n",
        "\r\n",
        "  print(\"Choose a number between 0 and 10\")\r\n",
        "  while True:\r\n",
        "  guess = int(input())\r\n",
        "  if guess == correct:\r\n",
        "        print(\"Good guess!\")\r\n",
        "        break\r\n",
        "  elif guess < correct:\r\n",
        "        print(\"Guess higher\")\r\n",
        "  elif guess > correct:\r\n",
        "      print(\"Guess lower\")\r\n",
        "  else:  \r\n",
        "    continue'''\r\n",
        "from random import randint\r\n",
        "low = 0\r\n",
        "high = 100\r\n",
        "correct = (randint(low, high))\r\n",
        "print(correct)\r\n",
        "\r\n",
        "print(f\"Choose a number between {low} and {high}\")\r\n",
        "while True:\r\n",
        "  \r\n",
        "  guess = int(input())\r\n",
        "  if  guess < correct:\r\n",
        "      print(\"Guess higher\")\r\n",
        "  elif guess > correct:\r\n",
        "       print(\"Guess lower\")\r\n",
        "  else:\r\n",
        "      print(\"Good guess!\")\r\n",
        "      break\r\n",
        "    "
      ],
      "execution_count": 132,
      "outputs": [
        {
          "output_type": "stream",
          "text": [
            "50\n",
            "Choose a number between 0 and 100\n",
            "30\n",
            "Guess higher\n",
            "50\n",
            "Good guess!\n"
          ],
          "name": "stdout"
        }
      ]
    },
    {
      "cell_type": "code",
      "metadata": {
        "id": "nKHFWYjMLMMS"
      },
      "source": [
        ""
      ],
      "execution_count": null,
      "outputs": []
    }
  ]
}